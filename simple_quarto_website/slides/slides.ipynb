{
 "cells": [
  {
   "cell_type": "markdown",
   "metadata": {},
   "source": [
    "---\n",
    "title: \"Habits\"\n",
    "author: \"Cy Kuang\"\n",
    "format: revealjs\n",
    "bibliography: ../reference.bib\n",
    "---\n",
    "\n",
    "## Getting up {background-color=\"black\" background-image=\"https://placekitten.com/100/100\" background-size=\"100px\" background-repeat=\"repeat\"}\n",
    "\n",
    "- Turn off alarm\n",
    "- Get out of bed\n",
    "\n",
    "## Eat Breakfast \n",
    "\n",
    "- Bread and Milk\n",
    "- Usually finish within 10 min\n",
    "\n",
    "## Eat dinner\n",
    "\n",
    "- Obsessed with what to eat\n",
    "- Looking Ipad when eating\n",
    "\n",
    "## Going to sleep\n",
    "\n",
    "- Get in bed\n",
    "- Count sheep[see @crowell2004social, pp. 19-28]\n",
    "\n",
    "## Code Block\n",
    "```{python}\n",
    "import matplotlib.pyplot as plt\n",
    "\n",
    "plt.plot([1, 2, 3, 4], [1, 4, 9, 16])\n",
    "plt.show()\n",
    "\n",
    "```\n",
    "\n",
    "## Image 2\n",
    "![](images/Image2.png)"
   ]
  }
 ],
 "metadata": {
  "kernelspec": {
   "display_name": "base",
   "language": "python",
   "name": "python3"
  },
  "language_info": {
   "codemirror_mode": {
    "name": "ipython",
    "version": 3
   },
   "file_extension": ".py",
   "mimetype": "text/x-python",
   "name": "python",
   "nbconvert_exporter": "python",
   "pygments_lexer": "ipython3",
   "version": "3.10.9"
  },
  "orig_nbformat": 4
 },
 "nbformat": 4,
 "nbformat_minor": 2
}
